{
 "cells": [
  {
   "cell_type": "code",
   "execution_count": 1,
   "metadata": {},
   "outputs": [],
   "source": [
    "from pathlib import Path\n",
    "from IPython.display import Video\n",
    "import matplotlib.pyplot as plt\n",
    "import matplotlib.gridspec as gridspec\n",
    "import matplotlib.animation\n",
    "plt.rcParams['figure.figsize'] = [10, 4]\n",
    "#%matplotlib inline\n",
    "\n",
    "import MDAnalysis as mda\n",
    "from MDAnalysis.analysis import rms, diffusionmap, align\n",
    "\n",
    "import numpy as np\n",
    "import pandas as pd\n",
    "from tqdm import tqdm\n",
    "from numba import njit, prange, jit\n",
    "from numba_progress import ProgressBar\n",
    "import cv2 as cv\n",
    "from scipy.ndimage import uniform_filter1d "
   ]
  },
  {
   "cell_type": "code",
   "execution_count": 5,
   "metadata": {},
   "outputs": [],
   "source": [
    "# set verbose options\n",
    "run_analysis_verb = False # run analysis or not\n",
    "save_verb = True # save results images or not\n",
    "plot_verb = False # display results images or not\n",
    "\n",
    "# select run to analyze: 1, 2 or 3 (wt) \n",
    "run = 3\n",
    "\n",
    "if run == 1:\n",
    "    data_path = 'data/run_1/'\n",
    "    results_path = 'results/teo_results/run_1/'\n",
    "    gro = '../trajectories/8DD9_run_1.gro' # starting frame of trajectory\n",
    "    xtc = '../trajectories/8DD9_run_1.xtc'\n",
    "    xvg = '../trajectories/run1.xvg'\n",
    "if run == 2:\n",
    "    data_path = 'data/run_2/'\n",
    "    results_path = 'results/teo_results/run_2/'\n",
    "    gro = '../trajectories/8DD9_run_2.gro' # starting frame of trajectory\n",
    "    xtc = '../trajectories/8DD9_run_2.xtc'\n",
    "    xvg = '../trajectories/run2.xvg'\n",
    "if run == 3:\n",
    "    data_path = 'data/run_wt/'\n",
    "    results_path = 'results/teo_results/run_wt/'\n",
    "    gro = '../trajectories/8DD9_run_wt.gro' # starting frame of trajectory\n",
    "    xtc = '../trajectories/8DD9_run_wt.xtc'\n",
    "    #xvg = '../trajectories/run_wt.xvg'"
   ]
  },
  {
   "cell_type": "code",
   "execution_count": 6,
   "metadata": {},
   "outputs": [
    {
     "name": "stdout",
     "output_type": "stream",
     "text": [
      "Number of frames: 10001 --> 500 ns\n"
     ]
    }
   ],
   "source": [
    "# create universe from the corresponding run files\n",
    "u = mda.Universe(gro, xtc)\n",
    "nFrames = len(u.trajectory)\n",
    "print(f'Number of frames: {nFrames} --> {int(nFrames/20)} ns')\n",
    "\n",
    "# ticks for imshow plot\n",
    "ticks_arr = np.linspace(0, nFrames + 1, 5, dtype = int)\n",
    "ticks_arr_new = np.linspace(0, (nFrames+1)/20, 5, dtype = int)\n",
    "\n",
    "# ticks for rmsf plot\n",
    "arr = np.linspace(1, 306, 10, dtype=int)\n",
    "\n",
    "# labels plot titles \n",
    "lab = ['1', '2', 'WT']"
   ]
  },
  {
   "cell_type": "code",
   "execution_count": 7,
   "metadata": {},
   "outputs": [],
   "source": [
    "# selections of atoms for the variour runs\n",
    "if run == 1 or run == 2:\n",
    "        first_chain = u.select_atoms('name CA and (index 1:4689)') \n",
    "        second_chain = u.select_atoms('name CA and (index 4811:9499)') \n",
    "        binding_sites = ('resid 41 or resid 49 or resid 135 or resid 142 or resid 144 ' \\\n",
    "                'or resid 163:166 or resid 172 or resid 189 or resid 192')\n",
    "        binding_site1 = f'({binding_sites}) and (index 1:4689)'\n",
    "        binding_site2 = f'({binding_sites}) and (index 4811:9499)'\n",
    "if run == 3:\n",
    "        first_chain = u.select_atoms('name CA and (index 1:4682)') \n",
    "        second_chain = u.select_atoms('name CA and (index 4683:9364)')\n",
    "        chain_resid_ticks = np.linspace(1, 306, 10, dtype=int)\n",
    "        binding_sites = ('resid 41 or resid 49 or resid 135 or resid 142 or resid 144 ' \\\n",
    "                'or resid 163:166 or resid 172 or resid 189 or resid 192')\n",
    "        binding_site1 = f'({binding_sites}) and (index 1:4682)'\n",
    "        binding_site2 = f'({binding_sites}) and (index 4683:9364)'\n",
    "\n",
    "binding_site1_CA = u.select_atoms(binding_site1 + ' and (name CA)')\n",
    "binding_site2_CA = u.select_atoms(binding_site2 + ' and (name CA)')\n",
    "\n",
    "lig1 = \"resid 307\"\n",
    "lig2 = \"resid 308\"\n",
    "lig1_selection = u.select_atoms(lig1)\n",
    "lig2_selection = u.select_atoms(lig2)"
   ]
  },
  {
   "attachments": {},
   "cell_type": "markdown",
   "metadata": {},
   "source": [
    "# TEMPERATURE \\& PRESSURE"
   ]
  },
  {
   "cell_type": "code",
   "execution_count": null,
   "metadata": {},
   "outputs": [],
   "source": [
    "# extract temperature and pressure from xvg file\n",
    "df = pd.read_csv(xvg, header=None, delimiter=\"\\s+\")\n",
    "df.columns = ['time', 'temperature', 'pressure']\n",
    "df.time = df.time/1000\n",
    "mean_t, std_t = np.mean(df.temperature), np.std(df.temperature)\n",
    "print(f'Temperature = {mean_t}', u\"\\u00B1\", f'{std_t}', 'K')\n",
    "mean_p, std_p = np.mean(df.pressure), np.std(df.pressure)\n",
    "print(f'Pressure = {mean_p}', u\"\\u00B1\", f'{std_p}', 'bar')"
   ]
  },
  {
   "cell_type": "code",
   "execution_count": null,
   "metadata": {},
   "outputs": [],
   "source": [
    "# perform a moving average on the temperature and pressure\n",
    "wind_size = 100 # 100/20 --> 5 ns\n",
    "temperature = uniform_filter1d(df.temperature, size = wind_size, mode = 'nearest')\n",
    "mean_t, std_t = np.mean(temperature), np.std(temperature)\n",
    "print(f'Temperature = {mean_t}', u\"\\u00B1\", f'{std_t}', 'K')\n",
    "\n",
    "pressure = uniform_filter1d(df.pressure, size = wind_size, mode = 'nearest')\n",
    "mean_p, std_p = np.mean(pressure), np.std(pressure)\n",
    "print(f'Pressure = {mean_p}', u\"\\u00B1\", f'{std_p}', 'bar')"
   ]
  },
  {
   "cell_type": "code",
   "execution_count": null,
   "metadata": {},
   "outputs": [],
   "source": [
    "fig, (ax, ax1) = plt.subplots(2, 1, figsize = (12, 6))\n",
    "ax.plot(df.time, temperature)\n",
    "ax.set(xlabel = 'Time [ns]', ylabel= 'T [K]', title = 'Temperature evolution', ylim = (309, 311))\n",
    "ax.grid()\n",
    "ax1.plot(df.time, pressure)\n",
    "ax1.set(xlabel = 'Time [ns]', ylabel= 'P [bar]', title = 'Pressure evolution', ylim = (-60, 60))\n",
    "ax1.grid()\n",
    "plt.tight_layout()\n",
    "if save_verb: plt.savefig(results_path + 'temperature_pressure.pdf', bbox_inches = 'tight')\n",
    "if plot_verb:\n",
    "    plt.show()\n",
    "else:\n",
    "    plt.close()"
   ]
  },
  {
   "attachments": {},
   "cell_type": "markdown",
   "metadata": {},
   "source": [
    "# RADIUS OF GYRATION"
   ]
  },
  {
   "cell_type": "code",
   "execution_count": 8,
   "metadata": {},
   "outputs": [],
   "source": [
    "# compute radius of gyration of the binding sites\n",
    "if run_analysis_verb:\n",
    "    Rgyr1 = []\n",
    "    Rgyr2 = []\n",
    "    for ts in tqdm(u.trajectory):\n",
    "        Rgyr1.append((u.trajectory.time, binding_site1_CA.radius_of_gyration()))\n",
    "        Rgyr2.append((u.trajectory.time, binding_site2_CA.radius_of_gyration()))\n",
    "    Rgyr1 = np.array(Rgyr1)\n",
    "    Rgyr2 = np.array(Rgyr2)\n",
    "    np.savetxt(data_path + 'Rgyr1.txt', Rgyr1)\n",
    "    np.savetxt(data_path + 'Rgyr2.txt', Rgyr2)\n",
    "else:\n",
    "    try:\n",
    "        Rgyr1 = np.loadtxt(data_path + 'Rgyr1.txt')\n",
    "        Rgyr2 = np.loadtxt(data_path + 'Rgyr2.txt')\n",
    "    except:\n",
    "        print('No Rgyr data found')"
   ]
  },
  {
   "cell_type": "code",
   "execution_count": 12,
   "metadata": {},
   "outputs": [],
   "source": [
    "if run != 3: \n",
    "    fig, ax = plt.subplots(figsize = (6, 4))\n",
    "else:\n",
    "    fig, ax = plt.subplots(figsize = (12, 4))\n",
    "\n",
    "ax.plot(Rgyr1[:,0]/1000, Rgyr1[:,1], label = 'Binding site 1')\n",
    "ax.plot(Rgyr2[:,0]/1000, Rgyr2[:,1], label = 'Binding site 2')\n",
    "ax.set(xlabel = 'Time [ns]', ylabel= 'Rgyr [$\\AA$]', title = f'Radius of gyration of Active Sites - Run {lab[run-1]}')\n",
    "ax.grid()\n",
    "ax.legend()\n",
    "if run!=3: ax.set_ylim(8, 14)\n",
    "else: ax.set_ylim(8, 12)\n",
    "plt.tight_layout()\n",
    "if save_verb: plt.savefig(results_path + 'Rgyr.pdf', bbox_inches = 'tight')\n",
    "if plot_verb:\n",
    "    plt.show()\n",
    "else:\n",
    "    plt.close()"
   ]
  },
  {
   "attachments": {},
   "cell_type": "markdown",
   "metadata": {},
   "source": [
    "# RMSD ANALYSIS"
   ]
  },
  {
   "cell_type": "code",
   "execution_count": null,
   "metadata": {},
   "outputs": [],
   "source": [
    "# compute the rmsd of various selections: CA, ligands, binding sites\n",
    "if run_analysis_verb:\n",
    "    R = rms.RMSD(u, u, select='name CA', groupselections=[lig1, lig2, binding_site1, binding_site2], ref_frame=0).run(verbose = True)\n",
    "    rmsd_df = pd.DataFrame(R.rmsd, columns=['idx', 'time', 'CA', 'lig1', 'lig2', 'pot1', 'pot2'])\n",
    "    rmsd_df['time'] = rmsd_df.time / 1000 # to get time in nanoseconds\n",
    "    rmsd_df.to_csv(data_path + 'rmsd.csv', index=False, float_format='%.3f')\n",
    "else:\n",
    "    try: rmsd_df = pd.read_csv(data_path + 'rmsd.csv')\n",
    "    except: print('Error: You have to run the analysis for the first time')"
   ]
  },
  {
   "cell_type": "code",
   "execution_count": null,
   "metadata": {},
   "outputs": [],
   "source": [
    "fig, (ax1, ax2, ax3) = plt.subplots(3, 1, figsize=(10, 6), sharex=True)\n",
    "ax1.plot(rmsd_df.time, rmsd_df.CA)\n",
    "ax1.set(ylabel = 'RMSD ($\\AA$)', title = 'CA RMSD')\n",
    "ax1.grid()\n",
    "\n",
    "ax2.plot(rmsd_df.time, rmsd_df.lig1, label='lig1', linewidth=0.5)\n",
    "ax2.plot(rmsd_df.time, rmsd_df.lig2, label='lig2', linewidth=0.5)\n",
    "ax2.set(ylabel = 'RMSD ($\\AA$)', title = 'Ligands RMSD')\n",
    "ax2.legend()\n",
    "ax2.grid()\n",
    "\n",
    "ax3.plot(rmsd_df.time, rmsd_df.pot1, label='pot1', linewidth=0.5)\n",
    "ax3.plot(rmsd_df.time, rmsd_df.pot2, label='pot2', linewidth=0.5)\n",
    "ax3.set(ylabel = 'RMSD ($\\AA$)', title = 'Binding sites RMSD')\n",
    "ax3.set_xlabel('Time (ns)')\n",
    "ax3.legend()\n",
    "ax3.grid()\n",
    "plt.tight_layout()\n",
    "\n",
    "if save_verb: plt.savefig(results_path + \"rmsd/rmsd.pdf\", bbox_inches = 'tight')\n",
    "if plot_verb: \n",
    "    plt.show()\n",
    "else: plt.close()"
   ]
  },
  {
   "attachments": {},
   "cell_type": "markdown",
   "metadata": {},
   "source": [
    "# RMSD MAP & CLUSTERING "
   ]
  },
  {
   "cell_type": "code",
   "execution_count": null,
   "metadata": {},
   "outputs": [],
   "source": [
    "# Calculate the RMSD between the two frames\n",
    "@njit(nogil=True)\n",
    "def compute_rmsd(tr1, tr2):\n",
    "    diff = tr1 - tr2\n",
    "    rmsd = np.sqrt(np.mean(diff**2))\n",
    "    return rmsd\n",
    "\n",
    "# Compute the RMSD matrix between traj1 and traj2\n",
    "@njit(nogil=True, parallel=True)\n",
    "def compute_pairwise_rmsd(traj1, traj2, rmsd_map, progress_proxy):    \n",
    "    for i in prange(len(traj1)):\n",
    "        for j in prange(len(traj2)):\n",
    "            rmsd_map[i, j] = compute_rmsd(traj1[i], traj2[j])\n",
    "            progress_proxy.update(1)\n",
    "    return rmsd_map"
   ]
  },
  {
   "attachments": {},
   "cell_type": "markdown",
   "metadata": {},
   "source": [
    "## LIGAND"
   ]
  },
  {
   "cell_type": "code",
   "execution_count": null,
   "metadata": {},
   "outputs": [],
   "source": [
    "if run_analysis_verb:\n",
    "    # take positions of only the lig 1 atoms\n",
    "    selection = lig1\n",
    "    traj = []\n",
    "    for ts in u.trajectory:\n",
    "        traj.append(u.select_atoms(selection).positions)\n",
    "    traj = np.array(traj)\n",
    "\n",
    "    print(\"Now starting lig 1 rmsd map calculation\")\n",
    "\n",
    "    # compute the rmsd map\n",
    "    with ProgressBar(total=len(traj)*len(traj)) as progress:\n",
    "        rmsd_map_lig1 = compute_pairwise_rmsd(traj, traj, np.zeros((len(traj), len(traj))), progress)\n",
    "\n",
    "    # take positions of only the lig 2 atoms\n",
    "    selection = lig2\n",
    "    traj = []\n",
    "    for ts in u.trajectory:\n",
    "        traj.append(u.select_atoms(selection).positions)\n",
    "    traj = np.array(traj)\n",
    "\n",
    "    print(\"Now starting lig 2 rmsd map calculation\")\n",
    "    # compute the rmsd map \n",
    "    with ProgressBar(total=len(traj)*len(traj)) as progress:\n",
    "        rmsd_map_lig2 = compute_pairwise_rmsd(traj, traj, np.zeros((len(traj), len(traj))), progress)\n",
    "\n",
    "    # save the rmsd maps\n",
    "    df = pd.DataFrame(rmsd_map_lig1).round(3)\n",
    "    df.columns = [f'{i}' for i in range(nFrames)]\n",
    "    df.to_parquet(data_path + 'rmsd_map/rmsd_lig1.parquet', index=False, engine = 'pyarrow')\n",
    "\n",
    "    df = pd.DataFrame(rmsd_map_lig2).round(3)\n",
    "    df.columns = [f'{i}' for i in range(nFrames)]\n",
    "    df.to_parquet(data_path + 'rmsd_map/rmsd_lig2.parquet', index=False, engine = 'pyarrow')\n",
    "else:\n",
    "    try:\n",
    "        # import rmsd map files if run_analysis_verb is False and the analysis has arleady been run\n",
    "        rmsd_map_lig1 = pd.read_parquet(data_path + 'rmsd_map/rmsd_lig1.parquet')\n",
    "        rmsd_map_lig2 = pd.read_parquet(data_path + 'rmsd_map/rmsd_lig2.parquet')\n",
    "    except: print('Error: You have to run the analysis for the first time')"
   ]
  },
  {
   "cell_type": "code",
   "execution_count": null,
   "metadata": {},
   "outputs": [],
   "source": [
    "fig, (ax, ax1) = plt.subplots(1, 2, figsize=(10, 4))\n",
    "im = ax.imshow(rmsd_map_lig1, cmap='viridis', vmin=0, vmax=15)\n",
    "ax.set_xlabel('Time [ns]')\n",
    "ax.set_ylabel('Time [ns]')\n",
    "ax.set_xticks(ticks_arr, ticks_arr_new.astype(str))\n",
    "ax.set_yticks(ticks_arr, ticks_arr_new.astype(str))\n",
    "ax.set_title(\"Ligand 1\")\n",
    "\n",
    "im1 = ax1.imshow(rmsd_map_lig2, cmap='viridis', vmin=0, vmax=15)\n",
    "ax1.set_xlabel('Time [ns]')\n",
    "ax1.set_xticks(ticks_arr, ticks_arr_new.astype(str))\n",
    "ax1.set_yticks(ticks_arr, ticks_arr_new.astype(str))\n",
    "ax1.set_title(\"Ligand 2\")\n",
    "\n",
    "fig.subplots_adjust(right=0.8)\n",
    "cbar_ax = fig.add_axes([0.85, 0.15, 0.02, 0.7])\n",
    "fig.colorbar(im, cax=cbar_ax, label = r'RMSD ($\\AA$)')\n",
    "\n",
    "if save_verb: plt.savefig(results_path + 'rmsd/rmsd_map_lig.pdf', bbox_inches='tight')\n",
    "if plot_verb:   \n",
    "    plt.show()\n",
    "else:\n",
    "    plt.close()"
   ]
  },
  {
   "attachments": {},
   "cell_type": "markdown",
   "metadata": {},
   "source": [
    "## BINDING SITES"
   ]
  },
  {
   "cell_type": "code",
   "execution_count": null,
   "metadata": {},
   "outputs": [],
   "source": [
    "if run_analysis_verb:\n",
    "    # take positions of only the binding site 1 CA atoms\n",
    "    selection = binding_site1\n",
    "    traj = []\n",
    "    for ts in u.trajectory:\n",
    "        traj.append(u.select_atoms(selection).positions)\n",
    "    traj = np.array(traj)\n",
    "\n",
    "    print(\"Now starting binding site 1 rmsd map calculation\")\n",
    "    # compute the rmsd map \n",
    "    with ProgressBar(total=len(traj)*len(traj)) as progress:\n",
    "        rmsd_map_pot1 = compute_pairwise_rmsd(traj, traj, np.zeros((len(traj), len(traj))), progress)\n",
    "\n",
    "    # take positions of only the binding site 2 CA atoms\n",
    "    selection = binding_site2\n",
    "    traj = []\n",
    "    for ts in u.trajectory:\n",
    "        traj.append(u.select_atoms(selection).positions)\n",
    "    traj = np.array(traj)\n",
    "\n",
    "    print(\"Now starting binding site 2 rmsd map calculation\")\n",
    "    # compute the rmsd map \n",
    "    with ProgressBar(total=len(traj)*len(traj)) as progress:\n",
    "        rmsd_map_pot2 = compute_pairwise_rmsd(traj, traj, np.zeros((len(traj), len(traj))), progress)\n",
    "    \n",
    "    # save the rmsd maps\n",
    "    df = pd.DataFrame(rmsd_map_pot1).round(3)\n",
    "    df.columns = [f'{i}' for i in range(nFrames)]\n",
    "    df.to_parquet(data_path + 'rmsd_map/rmsd_pot1.parquet', index=False, engine = 'pyarrow')\n",
    "\n",
    "    df = pd.DataFrame(rmsd_map_pot2).round(3)\n",
    "    df.columns = [f'{i}' for i in range(nFrames)]\n",
    "    df.to_parquet(data_path + 'rmsd_map/rmsd_pot2.parquet', index=False, engine = 'pyarrow')\n",
    "else:\n",
    "    try:\n",
    "        # import rmsd map files if run_analysis_verb is False and the analysis has arleady been run\n",
    "        rmsd_map_pot1 = pd.read_parquet(data_path + 'rmsd_map/rmsd_pot1.parquet')\n",
    "        rmsd_map_pot2 = pd.read_parquet(data_path + 'rmsd_map/rmsd_pot2.parquet')\n",
    "    except:\n",
    "        print(\"No rmsd data found. Please run analysis first.\")"
   ]
  },
  {
   "cell_type": "code",
   "execution_count": null,
   "metadata": {},
   "outputs": [],
   "source": [
    "fig, (ax, ax1) = plt.subplots(1, 2, figsize=(10, 4))\n",
    "im = ax.imshow(rmsd_map_pot1, cmap='viridis', vmin=0, vmax=7)\n",
    "ax.set_xlabel('Time [ns]')\n",
    "ax.set_ylabel('Time [ns]')\n",
    "ax.set_xticks(ticks_arr, ticks_arr_new.astype(str))\n",
    "ax.set_yticks(ticks_arr, ticks_arr_new.astype(str))\n",
    "ax.set_title(\"Binding site 1\")\n",
    "\n",
    "im1 = ax1.imshow(rmsd_map_pot2, cmap='viridis', vmin=0, vmax=7)\n",
    "ax1.set_xlabel('Time [ns]')\n",
    "ax1.set_xticks(ticks_arr, ticks_arr_new.astype(str))\n",
    "ax1.set_yticks(ticks_arr, ticks_arr_new.astype(str))\n",
    "ax1.set_title(\"Binding site 2\")\n",
    "\n",
    "fig.subplots_adjust(right=0.8)\n",
    "cbar_ax = fig.add_axes([0.85, 0.15, 0.02, 0.7])\n",
    "fig.colorbar(im, cax=cbar_ax, label = r'RMSD ($\\AA$)')\n",
    "\n",
    "if save_verb: plt.savefig(results_path + 'rmsd/rmsd_map_pot.pdf',  bbox_inches='tight')\n",
    "if plot_verb:   \n",
    "    plt.show()\n",
    "else:\n",
    "    plt.close()"
   ]
  },
  {
   "attachments": {},
   "cell_type": "markdown",
   "metadata": {},
   "source": [
    "## CHAINS RMSD MAP"
   ]
  },
  {
   "cell_type": "code",
   "execution_count": null,
   "metadata": {},
   "outputs": [],
   "source": [
    "if run_analysis_verb:\n",
    "    # take positions of only the chain 1 CA atoms\n",
    "    selection = 'name CA and (index 1:4690)'\n",
    "    traj = []\n",
    "    for ts in u.trajectory:\n",
    "        traj.append(u.select_atoms(selection).positions)\n",
    "    traj = np.array(traj)\n",
    "\n",
    "    print(\"Now starting chain1 rmsd map calculation\")\n",
    "    # compute the rmsd map \n",
    "    with ProgressBar(total=len(traj)*len(traj)) as progress:\n",
    "        rmsd_map_chain1 = compute_pairwise_rmsd(traj, traj, np.zeros((len(traj), len(traj))), progress)\n",
    "\n",
    "    # take positions of only the chain 2 CA atoms\n",
    "    selection = 'name CA and (index 4811:9500)'\n",
    "    traj = []\n",
    "    for ts in u.trajectory:\n",
    "        traj.append(u.select_atoms(selection).positions)\n",
    "    traj = np.array(traj)\n",
    "\n",
    "    print(\"Now starting chain2 rmsd map calculation\")\n",
    "    # compute the rmsd map \n",
    "    with ProgressBar(total=len(traj)*len(traj)) as progress:\n",
    "        rmsd_map_chain2 = compute_pairwise_rmsd(traj, traj, np.zeros((len(traj), len(traj))), progress)\n",
    "\n",
    "    # save the rmsd maps\n",
    "    df = pd.DataFrame(rmsd_map_chain1).round(3)\n",
    "    df.columns = [f'{i}' for i in range(nFrames)]\n",
    "    df.to_parquet(data_path + 'rmsd_map/rmsd_chain1.parquet', index=False, engine = 'pyarrow')\n",
    "\n",
    "    df = pd.DataFrame(rmsd_map_chain2).round(3)\n",
    "    df.columns = [f'{i}' for i in range(nFrames)]\n",
    "    df.to_parquet(data_path + 'rmsd_map/rmsd_chain2.parquet', index=False, engine = 'pyarrow')\n",
    "else:\n",
    "    try:\n",
    "        # import rmsd map files if run_analysis_verb is False and the analysis has arleady been run\n",
    "        rmsd_map_chain1 = pd.read_parquet(data_path + 'rmsd_map/rmsd_chain1.parquet')\n",
    "        rmsd_map_chain2 = pd.read_parquet(data_path + 'rmsd_map/rmsd_chain2.parquet')\n",
    "    except:\n",
    "        print(\"No rmsd data found. Please run analysis first.\")"
   ]
  },
  {
   "cell_type": "code",
   "execution_count": null,
   "metadata": {},
   "outputs": [],
   "source": [
    "fig, (ax, ax1) = plt.subplots(1, 2, figsize=(10, 4))\n",
    "im = ax.imshow(rmsd_map_chain1, cmap='viridis', vmin=0, vmax=4)\n",
    "ax.set_xlabel('Time [ns]')\n",
    "ax.set_ylabel('Time [ns]')\n",
    "ax.set_xticks(ticks_arr, ticks_arr_new.astype(str))\n",
    "ax.set_yticks(ticks_arr, ticks_arr_new.astype(str))\n",
    "ax.set_title(\"Chain 1\")\n",
    "\n",
    "im1 = ax1.imshow(rmsd_map_chain2, cmap='viridis', vmin=0, vmax=4)\n",
    "ax1.set_xlabel('Time [ns]')\n",
    "ax1.set_xticks(ticks_arr, ticks_arr_new.astype(str))\n",
    "ax1.set_yticks(ticks_arr, ticks_arr_new.astype(str))\n",
    "ax1.set_title(\"Chain 2\")\n",
    "\n",
    "fig.subplots_adjust(right=0.8)\n",
    "cbar_ax = fig.add_axes([0.85, 0.15, 0.02, 0.7])\n",
    "fig.colorbar(im, cax=cbar_ax, label = r'RMSD ($\\AA$)')\n",
    "\n",
    "if save_verb: plt.savefig(results_path + 'rmsd/rmsd_map_chains.pdf',  bbox_inches='tight')\n",
    "if plot_verb:   \n",
    "    plt.show()\n",
    "else:\n",
    "    plt.close()"
   ]
  },
  {
   "attachments": {},
   "cell_type": "markdown",
   "metadata": {},
   "source": [
    "## FULL CA RMSD MAP"
   ]
  },
  {
   "cell_type": "code",
   "execution_count": null,
   "metadata": {},
   "outputs": [],
   "source": [
    "if run_analysis_verb:\n",
    "    selection = 'name CA'\n",
    "    traj = []\n",
    "    for ts in u.trajectory:\n",
    "        traj.append(u.select_atoms(selection).positions)\n",
    "    traj = np.array(traj)\n",
    "\n",
    "    print(\"Now starting rmsd map calculation\")\n",
    "    # compute the rmsd map \n",
    "    with ProgressBar(total=len(traj)*len(traj)) as progress:\n",
    "        rmsd_map_CA = compute_pairwise_rmsd(traj, traj, np.zeros((len(traj), len(traj))), progress)\n",
    "\n",
    "    # save the rmsd maps\n",
    "    df = pd.DataFrame(rmsd_map_CA).round(3)\n",
    "    df.columns = [f'{i}' for i in range(nFrames)]\n",
    "    df.to_parquet(data_path + 'rmsd_map/rmsd_map_CA.parquet', index=False, engine = 'pyarrow')\n",
    "\n",
    "else:\n",
    "    try:\n",
    "        # import rmsd map files if run_analysis_verb is False and the analysis has arleady been run\n",
    "        rmsd_map_CA = pd.read_parquet(data_path + 'rmsd_map/rmsd_map_CA.parquet')\n",
    "    except:\n",
    "        print(\"No rmsd data found. Please run analysis first.\")"
   ]
  },
  {
   "cell_type": "code",
   "execution_count": null,
   "metadata": {},
   "outputs": [],
   "source": [
    "fig, ax = plt.subplots(figsize=(6, 4))\n",
    "im = ax.imshow(rmsd_map_CA, cmap='viridis')\n",
    "ax.set_xlabel('Time [ns]')\n",
    "ax.set_ylabel('Time [ns]')\n",
    "ax.set_xticks(ticks_arr, ticks_arr_new.astype(str))\n",
    "ax.set_yticks(ticks_arr, ticks_arr_new.astype(str))\n",
    "fig.colorbar(im, label = r'RMSD ($\\AA$)')\n",
    "if save_verb: plt.savefig(results_path + 'rmsd/rmsd_map.pdf',  bbox_inches='tight')\n",
    "if plot_verb:\n",
    "    plt.show()\n",
    "else: plt.close()"
   ]
  },
  {
   "attachments": {},
   "cell_type": "markdown",
   "metadata": {},
   "source": [
    "# RMSF ANALYSIS"
   ]
  },
  {
   "attachments": {},
   "cell_type": "markdown",
   "metadata": {},
   "source": [
    "## FULL CHAINS RMSF"
   ]
  },
  {
   "cell_type": "code",
   "execution_count": null,
   "metadata": {},
   "outputs": [],
   "source": [
    "# compute rmsf for the two chains\n",
    "if run_analysis_verb:\n",
    "    firstChain_rmsf = rms.RMSF(first_chain, verbose = True).run().rmsf\n",
    "    secondChain_rmsf = rms.RMSF(second_chain, verbose = True).run().rmsf\n",
    "    rmsf_chains = pd.DataFrame({'resid': first_chain.resids, 'chain1': firstChain_rmsf, 'chain2': secondChain_rmsf})\n",
    "    rmsf_chains.to_csv(data_path+'rmsf_chains.csv', index=False, float_format='%.3f')\n",
    "else:\n",
    "    # import rmsf files if run_analysis_verb is False and the analysis has arleady been run\n",
    "    try: rmsf_chains = pd.read_csv(data_path + 'rmsf_chains.csv')\n",
    "    except: print('Error: You have to run the analysis for the first time')"
   ]
  },
  {
   "cell_type": "code",
   "execution_count": null,
   "metadata": {},
   "outputs": [],
   "source": [
    "fig, (ax1, ax2) = plt.subplots(2, 1, figsize=(10, 6), sharex=True)\n",
    "ax1.plot(first_chain.resids.astype(str), rmsf_chains.chain1)\n",
    "ax1.set(ylabel = 'RMSF ($\\AA$)', title = 'First Chain RMSF') \n",
    "ax1.set_xticks(arr, arr.astype(str))\n",
    "ax1.grid()\n",
    "\n",
    "for i in binding_site1_CA.resids: # red vertical lines for the binding site \n",
    "    if i == 144:\n",
    "        ax1.vlines(i, min(rmsf_chains.chain1), max(rmsf_chains.chain1), color='red', linestyle = 'solid', alpha=1)\n",
    "    else:\n",
    "        ax1.vlines(i, min(rmsf_chains.chain1), max(rmsf_chains.chain1), color='black', linestyle = 'dotted', alpha=0.8)\n",
    "if run==2: ax1.set_ylim(1, 6)\n",
    "\n",
    "ax2.plot(second_chain.resids.astype(str), rmsf_chains.chain2)\n",
    "ax2.set(xlabel = 'Residue', ylabel = 'RMSF ($\\AA$)', title = 'Second Chain RMSF')\n",
    "for i in binding_site2_CA.resids: # red vertical lines for the binding site \n",
    "    if i == 144:\n",
    "        ax2.vlines(i, min(rmsf_chains.chain2), max(rmsf_chains.chain2), color='red', linestyle = 'solid', alpha=1)\n",
    "    else:\n",
    "        ax2.vlines(i, min(rmsf_chains.chain2), max(rmsf_chains.chain2), color='black', linestyle = 'dotted', alpha=0.8)\n",
    "ax2.grid()\n",
    "\n",
    "if run ==2: ax2.set_ylim(1, 6)\n",
    "\n",
    "plt.tight_layout()\n",
    "if save_verb: plt.savefig(results_path + \"rmsf/rmsf.pdf\", dpi = 500, bbox_inches = 'tight')\n",
    "if plot_verb:\n",
    "    plt.show()\n",
    "else: plt.close()"
   ]
  },
  {
   "cell_type": "code",
   "execution_count": null,
   "metadata": {},
   "outputs": [],
   "source": [
    "# version 2\n",
    "arr = np.linspace(1, 306, 10, dtype=int)\n",
    "\n",
    "fig, ax = plt.subplots(1, 1, figsize=(12, 3), sharex=True)\n",
    "ax.plot(first_chain.resids.astype(str), rmsf_chains.chain1, label = 'First Chain')\n",
    "ax.plot(second_chain.resids.astype(str), rmsf_chains.chain2, label = 'Second Chain')\n",
    "ax.set(xlabel = 'Risdue', ylabel = 'RMSF ($\\AA$)', title = f'Chains RMSF - Run {lab[run-1]}') \n",
    "ax.set_xticks(arr, arr.astype(str))\n",
    "ax.grid()\n",
    "\n",
    "for i in binding_site1_CA.resids: # red vertical lines for the binding site \n",
    "    if i == 144:\n",
    "        ax.vlines(i, -10, 10, color='red', linestyle = 'solid', alpha=1)\n",
    "    else:\n",
    "        ax.vlines(i, -10, 10, color='black', linestyle = 'dotted', alpha=0.8)    \n",
    "ax.set_ylim(1, 10)\n",
    "ax.legend(loc = 'upper left', fontsize = 8)\n",
    "if save_verb: plt.savefig(results_path + \"rmsf/rmsf_v2.pdf\", bbox_inches = 'tight')\n",
    "if plot_verb:\n",
    "    plt.show()\n",
    "else: plt.close()"
   ]
  },
  {
   "attachments": {},
   "cell_type": "markdown",
   "metadata": {},
   "source": [
    "## RMSF WINDOWED IN TIME\n",
    "\n",
    "1 frame = 50 ps $\\longrightarrow$ 1 ns = 20 frames\n"
   ]
  },
  {
   "cell_type": "code",
   "execution_count": null,
   "metadata": {},
   "outputs": [],
   "source": [
    "# nFrames/20 since we save coordinates every 50 ps\n",
    "print(f\"number of frames: {nFrames}, corresponding to {nFrames/20} ns\" )\n",
    "window = 500 # 25 ns, 25*20 = 500 frames\n",
    "stride = 20 # 1 ns, 5*20 = 100 frames\n",
    "print(f\"window of {window/20} ns, stride of {stride/20} ns\")\n",
    "\n",
    "startFrames = np.arange(0, nFrames-window, stride, dtype=int)\n",
    "endFrames = startFrames + window"
   ]
  },
  {
   "cell_type": "code",
   "execution_count": null,
   "metadata": {},
   "outputs": [],
   "source": [
    "if run_analysis_verb:\n",
    "    rmsf_list = []\n",
    "    for i in tqdm(range(len(startFrames))):\n",
    "        startFrame = startFrames[i]\n",
    "        endFrame = endFrames[i]\n",
    "        firstChain_rmsf = rms.RMSF(first_chain).run(startFrame, endFrame).rmsf\n",
    "        secondChain_rmsf = rms.RMSF(second_chain).run(startFrame, endFrame).rmsf\n",
    "        rmsf_list.append(pd.DataFrame({'resid': first_chain.resids, 'chain1': firstChain_rmsf, 'chain2': secondChain_rmsf}))\n",
    "\n",
    "    rmsf_windowed = pd.concat(rmsf_list, axis=0, ignore_index=True)\n",
    "    rmsf_windowed.to_csv(data_path + 'rmsf_windowed.csv', index=False, float_format='%.3f')\n",
    "else:\n",
    "    try: rmsf_windowed = pd.read_csv(data_path + 'rmsf_windowed.csv')\n",
    "    except: print(\"Error: You need to run the analysis first\")\n",
    "\n",
    "# generate video with other environment running video.py, here only show\n",
    "#Video(results_path+\"rmsf/windowed_rmsf.mp4\")"
   ]
  },
  {
   "cell_type": "code",
   "execution_count": null,
   "metadata": {},
   "outputs": [],
   "source": [
    "temp = np.empty((306, len(startFrames)))\n",
    "for i in range(1, 307):\n",
    "    temp[i-1] = np.array(rmsf_windowed.loc[rmsf_windowed.resid == i, \"chain1\"])\n",
    "\n",
    "chain1_rmsf_heatmap = np.empty((306*2, len(startFrames)))\n",
    "for i in range(0, 2*306, 2):\n",
    "    chain1_rmsf_heatmap[i] = temp[int(i/2)]\n",
    "    chain1_rmsf_heatmap[i+1] = temp[int(i/2)]\n",
    "\n",
    "temp = np.empty((306, len(startFrames)))\n",
    "for i in range(1, 307):\n",
    "    temp[i-1] = np.array(rmsf_windowed.loc[rmsf_windowed.resid == i, \"chain2\"])\n",
    "\n",
    "chain2_rmsf_heatmap = np.empty((306*2, len(startFrames)))\n",
    "for i in range(0, 2*306, 2):\n",
    "    chain2_rmsf_heatmap[i] = temp[int(i/2)]\n",
    "    chain2_rmsf_heatmap[i+1] = temp[int(i/2)]"
   ]
  },
  {
   "cell_type": "code",
   "execution_count": null,
   "metadata": {},
   "outputs": [],
   "source": [
    "fig, (ax, ax1) = plt.subplots(1, 2, figsize = (12, 5), sharex=True, sharey=True)\n",
    "im = ax.imshow(chain1_rmsf_heatmap.T, cmap='hot', interpolation='nearest', vmin = 1.5, vmax = 6)\n",
    "ax.set(xlabel = 'Residues', ylabel = 'Window Time [ns]', title = 'First Chain RMSF')\n",
    "ax.set_xticks(2*binding_site1_CA.resids, binding_site1_CA.resids.astype(str))\n",
    "plt.setp(ax.get_xticklabels(), visible=False)\n",
    "\n",
    "im2 = ax1.imshow(chain2_rmsf_heatmap.T, cmap='hot', interpolation='nearest', vmin = 1.5, vmax = 6)\n",
    "\n",
    "ax1.set(xlabel = 'Residues', title = 'Second Chain RMSF')\n",
    "ax1.set_xticks(2*binding_site1_CA.resids, binding_site1_CA.resids.astype(str))\n",
    "plt.setp(ax1.get_xticklabels(), visible=False)\n",
    "\n",
    "fig.subplots_adjust(right=0.8)\n",
    "cbar_ax = fig.add_axes([0.85, 0.15, 0.02, 0.7])\n",
    "fig.colorbar(im, cax=cbar_ax, label = r'RMSD [$\\AA$]')\n",
    "if save_verb: plt.savefig(results_path + \"rmsf/rmsf_heatmap.pdf\", bbox_inches = 'tight')\n",
    "if plot_verb:\n",
    "    plt.show()\n",
    "else: plt.close()"
   ]
  },
  {
   "attachments": {},
   "cell_type": "markdown",
   "metadata": {},
   "source": [
    "# LIGAND DISTANCE TO BINDING SITE"
   ]
  },
  {
   "cell_type": "code",
   "execution_count": null,
   "metadata": {},
   "outputs": [],
   "source": [
    "if run_analysis_verb:\n",
    "    d_lig1 = np.zeros(nFrames)\n",
    "    d_lig2 = np.zeros(nFrames)\n",
    "    for i, ts in tqdm(enumerate(u.trajectory)):\n",
    "        d_lig1[i] = np.linalg.norm(binding_site1_CA.center_of_mass() - lig1_selection.center_of_mass())\n",
    "        d_lig2[i] = np.linalg.norm(binding_site2_CA.center_of_mass() - lig2_selection.center_of_mass())\n",
    "    d_ligands = pd.DataFrame({'lig1': d_lig1, 'lig2': d_lig2})\n",
    "    d_ligands.to_csv(data_path+'ligands_distance.csv', index=False, float_format='%.3f')\n",
    "else:\n",
    "    try: d_ligands = pd.read_csv(data_path+'ligands_distance.csv')\n",
    "    except: print(\"Error: You need to run the analysis first\")"
   ]
  },
  {
   "cell_type": "code",
   "execution_count": null,
   "metadata": {},
   "outputs": [],
   "source": [
    "fig, ax = plt.subplots(1, 1, figsize=(12, 4), sharex=True)\n",
    "ax.plot(d_ligands.index/20, d_ligands.lig1, '-b')\n",
    "ax.plot(d_ligands.index/20, d_ligands.lig2, '-r')\n",
    "ax.axhline(y=13, color='k', linestyle='--')\n",
    "ax.set(ylabel = 'Distance ($\\AA$)', xlabel = 'Time [ns]', title = f'Ligand distance from corresponding binding site - Run {lab[run-1]}')\n",
    "ax.grid()\n",
    "plt.tight_layout()\n",
    "ax.legend(['Ligand 1', 'Ligand 2', 'Threshold - 13 $\\AA$ '], loc='upper left', fontsize=8)\n",
    "if save_verb: plt.savefig(results_path + \"ligand_distance.pdf\", bbox_inches = 'tight')\n",
    "if plot_verb: \n",
    "    plt.show()\n",
    "else: plt.close()"
   ]
  },
  {
   "attachments": {},
   "cell_type": "markdown",
   "metadata": {},
   "source": [
    "# LIGAND DISTANCE FROM CA"
   ]
  },
  {
   "cell_type": "code",
   "execution_count": null,
   "metadata": {},
   "outputs": [],
   "source": [
    "if run_analysis_verb:\n",
    "    d_lig1 = np.zeros((nFrames, u.select_atoms('name CA').n_residues))\n",
    "    for i, ts in tqdm(enumerate(u.trajectory)):\n",
    "        for j, at in enumerate(u.select_atoms('name CA').positions):\n",
    "            d_lig1[i, j] = np.linalg.norm(at - lig1_selection.center_of_mass())\n",
    "    d_lig1 = pd.DataFrame(d_lig1)\n",
    "    d_lig1.columns = np.arange(0, 612, 1).astype(str)\n",
    "    d_lig1[\"Time\"] = d_lig1.index/20\n",
    "    d_lig1.set_index(\"Time\", inplace=True)\n",
    "    d_lig1.round(3)\n",
    "    d_lig1.to_parquet(data_path + 'ligand1_distance.parquet', index=False, engine = 'pyarrow')\n",
    "    \n",
    "    d_lig2 = np.zeros((nFrames, u.select_atoms('name CA').n_residues))\n",
    "    for i, ts in tqdm(enumerate(u.trajectory)):\n",
    "        for j, at in enumerate(u.select_atoms('name CA').positions):\n",
    "            d_lig2[i, j] = np.linalg.norm(at - lig2_selection.center_of_mass())\n",
    "    d_lig2 = pd.DataFrame(d_lig2)\n",
    "    d_lig2.columns = np.arange(0, 612, 1).astype(str)\n",
    "    d_lig2[\"Time\"] = d_lig2.index/20\n",
    "    d_lig2.set_index(\"Time\", inplace=True)\n",
    "    d_lig2.round(3)\n",
    "    d_lig2.to_parquet(data_path + 'ligand2_distance.parquet', index=False, engine = 'pyarrow')\n",
    "    \n",
    "else:\n",
    "    try: \n",
    "        d_lig1 = pd.read_parquet(data_path + 'ligand1_distance.parquet')\n",
    "        d_lig2 = pd.read_parquet(data_path + 'ligand2_distance.parquet')\n",
    "    except: print(\"Error: You need to run the analysis first\")"
   ]
  },
  {
   "cell_type": "code",
   "execution_count": null,
   "metadata": {},
   "outputs": [],
   "source": [
    "fig, (ax, ax1) = plt.subplots(1, 2, figsize=(16, 6))\n",
    "im = ax.imshow(d_lig1.T, cmap = 'inferno_r', vmin = 0, vmax = 20)\n",
    "ax.axhline(y=306, color='r', linestyle='--')\n",
    "ax.set(xlabel = 'Time [ns]', ylabel = 'Residues', title = 'Ligand 1')\n",
    "ax.set_yticks(np.append(binding_site1_CA.resids, 306+binding_site1_CA.resids ))\n",
    "ax.set_xticks(np.arange(0, nFrames, 2000), np.arange(0, nFrames/20, 100, dtype=int))\n",
    "ax.set_aspect(12)\n",
    "plt.setp(ax.get_yticklabels(), visible=False)\n",
    "\n",
    "im = ax1.imshow(d_lig2.T, cmap = 'inferno_r', vmin = 0, vmax = 20)\n",
    "ax1.axhline(y=306, color='r', linestyle='--')\n",
    "ax1.set(xlabel = 'Time [ns]', title = 'Ligand 2')\n",
    "ax1.set_yticks(np.append(binding_site1_CA.resids, 306+binding_site1_CA.resids ))\n",
    "ax1.set_xticks(np.arange(0, nFrames, 2000), np.arange(0, nFrames/20, 100, dtype=int))\n",
    "ax1.set_aspect(12)\n",
    "plt.setp(ax1.get_yticklabels(), visible=False)\n",
    "\n",
    "fig.subplots_adjust(right=0.8)\n",
    "cbar_ax = fig.add_axes([0.85, 0.14, 0.02, 0.7])\n",
    "fig.colorbar(im, cax=cbar_ax, label = r'Distance ($\\AA$)')\n",
    "if save_verb: plt.savefig(results_path + \"ligand_distance_heatmap.pdf\", bbox_inches = 'tight')\n",
    "plt.close()"
   ]
  },
  {
   "attachments": {},
   "cell_type": "markdown",
   "metadata": {},
   "source": [
    "# PLOT"
   ]
  },
  {
   "cell_type": "code",
   "execution_count": null,
   "metadata": {},
   "outputs": [],
   "source": [
    "fig, (ax, ax1) = plt.subplots(1, 2, figsize=(12, 4), gridspec_kw={'width_ratios': [1.5, 1]})\n",
    "ax.plot(rmsd_df.time, rmsd_df.CA)\n",
    "ax.set(ylabel = 'RMSD [$\\AA$]', xlabel = 'Time [ns]' , ylim = (1, 4), title = r'RMSD ($C_\\alpha$)')\n",
    "ax.grid()\n",
    "\n",
    "im = ax1.imshow(rmsd_map_CA, cmap='viridis')\n",
    "ax1.set_xlabel('Time [ns]')\n",
    "ax1.set_ylabel('Time [ns]')\n",
    "ax1.set_xticks(ticks_arr, ticks_arr_new.astype(str))\n",
    "ax1.set_yticks(ticks_arr, ticks_arr_new.astype(str))\n",
    "ax1.set_title(r\"RMSD - Map ($C_\\alpha$)\")\n",
    "fig.subplots_adjust(right=0.8)\n",
    "cbar_ax = fig.add_axes([0.85, 0.15, 0.02, 0.7])\n",
    "fig.colorbar(im, cax=cbar_ax, label = r'RMSD ($\\AA$)')\n",
    "\n",
    "if save_verb: plt.savefig(results_path + \"rmsd/rmsd_CA.pdf\", bbox_inches = 'tight')\n",
    "if plot_verb:\n",
    "    plt.show()\n",
    "else: plt.close()"
   ]
  },
  {
   "cell_type": "code",
   "execution_count": null,
   "metadata": {},
   "outputs": [],
   "source": [
    "fig, ax = plt.subplots(1, 1, figsize=(12, 2), sharex=True)\n",
    "ax.plot(rmsd_df.time, rmsd_df.lig1, label = 'Ligand 1', linewidth=0.8)\n",
    "ax.plot(rmsd_df.time, rmsd_df.lig2, label = 'Ligand 2', linewidth=0.8)\n",
    "ax.set(ylabel = 'RMSD [$\\AA$]', xlabel = 'Time [ns]', title = f'Ligands RMSD - Run {lab[run-1]}')\n",
    "ax.legend()\n",
    "ax.grid()\n",
    "\n",
    "if save_verb: plt.savefig(results_path + \"rmsd/rmsd_ligands.pdf\", bbox_inches = 'tight')\n",
    "if plot_verb:\n",
    "    plt.show()\n",
    "else: plt.close()"
   ]
  },
  {
   "cell_type": "code",
   "execution_count": null,
   "metadata": {},
   "outputs": [],
   "source": [
    "fig, ax = plt.subplots(1, 1, figsize=(12, 2), sharex=True)\n",
    "ax.plot(rmsd_df.time, rmsd_df.pot1, label = 'Binding Site 1', linewidth=0.8)\n",
    "ax.plot(rmsd_df.time, rmsd_df.pot2, label = 'Binding Site 2', linewidth=0.8)\n",
    "ax.set(ylabel = 'RMSD [$\\AA$]', xlabel = 'Time [ns]', title = f'Binding Sites RMSD - Run {lab[run-1]}')\n",
    "ax.legend()\n",
    "ax.grid()\n",
    "\n",
    "if save_verb: plt.savefig(results_path + \"rmsd/rmsd_binding_sites.pdf\", bbox_inches = 'tight')\n",
    "if plot_verb:\n",
    "    plt.show()\n",
    "else: plt.close()"
   ]
  },
  {
   "cell_type": "code",
   "execution_count": null,
   "metadata": {},
   "outputs": [],
   "source": []
  }
 ],
 "metadata": {
  "kernelspec": {
   "display_name": "CBPenv",
   "language": "python",
   "name": "python3"
  },
  "language_info": {
   "codemirror_mode": {
    "name": "ipython",
    "version": 3
   },
   "file_extension": ".py",
   "mimetype": "text/x-python",
   "name": "python",
   "nbconvert_exporter": "python",
   "pygments_lexer": "ipython3",
   "version": "3.8.15"
  },
  "vscode": {
   "interpreter": {
    "hash": "a176e17a03d2ac10e16195a6bc22b6394fa2f08afd36a103c397e22bbf641857"
   }
  }
 },
 "nbformat": 4,
 "nbformat_minor": 2
}
