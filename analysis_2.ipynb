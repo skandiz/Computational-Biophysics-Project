{
 "cells": [
  {
   "cell_type": "code",
   "execution_count": 25,
   "metadata": {},
   "outputs": [],
   "source": [
    "from pathlib import Path\n",
    "from IPython.display import Video\n",
    "import matplotlib.pyplot as plt\n",
    "import matplotlib.gridspec as gridspec\n",
    "import matplotlib.animation\n",
    "plt.rcParams['figure.figsize'] = [10, 4]\n",
    "plt.rcParams['figure.dpi'] = 500\n",
    "#%matplotlib inline\n",
    "\n",
    "import MDAnalysis as mda\n",
    "from MDAnalysis.analysis import rms, diffusionmap, align\n",
    "\n",
    "import numpy as np\n",
    "import pandas as pd\n",
    "from tqdm import tqdm\n",
    "from numba import njit, prange, jit\n",
    "from numba_progress import ProgressBar\n",
    "import cv2 as cv"
   ]
  },
  {
   "cell_type": "code",
   "execution_count": 2,
   "metadata": {},
   "outputs": [],
   "source": [
    "run_analysis_verb = False\n",
    "save_verb = True\n",
    "plot_verb = False\n",
    "\n",
    "run = 2\n",
    "\n",
    "if run == 1:\n",
    "    data_path = '../../analysis/data/run_1/'\n",
    "    results_path = '../../analysis/results/teo_results/run_1/'\n",
    "if run == 2:\n",
    "    data_path = '../../analysis/data/run_2/'\n",
    "    results_path = '../../analysis/results/teo_results/run_2/'\n",
    "if run == 3:\n",
    "    data_path = '../../analysis/data/run_wt/'\n",
    "    results_path = '../../analysis/results/teo_results/run_wt/'"
   ]
  },
  {
   "cell_type": "code",
   "execution_count": 3,
   "metadata": {},
   "outputs": [],
   "source": [
    "if run == 1:\n",
    "    gro = '../../trajectories/8DD9_run_1.gro' # starting frame of trajectory\n",
    "    xtc = '../../trajectories/8DD9_run_1.xtc'\n",
    "\n",
    "if run == 2:\n",
    "    gro = '../../trajectories/8DD9_run_2.gro' # starting frame of trajectory\n",
    "    xtc = '../../trajectories/8DD9_run_2.xtc'\n",
    "\n",
    "if run == 3:\n",
    "    gro = '../../trajectories/8DD9_run_wt.gro' # starting frame of trajectory\n",
    "    xtc = '../../trajectories/8DD9_run_wt.xtc'\n",
    "\n",
    "u = mda.Universe(gro, xtc)\n",
    "nFrames = len(u.trajectory)\n",
    "\n",
    "# ticks for imshow plot\n",
    "ticks_arr = np.linspace(0, nFrames + 1, 5, dtype = int)\n",
    "ticks_arr_new = np.linspace(0, (nFrames+1)/20, 5, dtype = int)"
   ]
  },
  {
   "cell_type": "code",
   "execution_count": 4,
   "metadata": {},
   "outputs": [],
   "source": [
    "if run == 1 or run == 2 :\n",
    "        first_chain = u.select_atoms('name CA and (index 1:4689)') \n",
    "        second_chain = u.select_atoms('name CA and (index 4811:9499)') \n",
    "        binding_sites = ('resid 41 or resid 49 or resid 135 or resid 142 or resid 144 ' \\\n",
    "                'or resid 163:166 or resid 172 or resid 189 or resid 192')\n",
    "        binding_site1 = f'({binding_sites}) and (index 1:4689)'\n",
    "        binding_site2 = f'({binding_sites}) and (index 4811:9499)'\n",
    "if run == 3:\n",
    "        first_chain = u.select_atoms('name CA and (index 1:4682)') \n",
    "        second_chain = u.select_atoms('name CA and (index 4683:9364)')\n",
    "        chain_resid_ticks = np.linspace(1, 306, 10, dtype=int)\n",
    "        binding_sites = ('resid 41 or resid 49 or resid 135 or resid 142 or resid 144 ' \\\n",
    "                'or resid 163:166 or resid 172 or resid 189 or resid 192')\n",
    "        binding_site1 = f'({binding_sites}) and (index 1:4682)'\n",
    "        binding_site2 = f'({binding_sites}) and (index 4683:9364)'\n",
    "\n",
    "binding_site1_CA = u.select_atoms(binding_site1 + ' and (name CA)')\n",
    "binding_site2_CA = u.select_atoms(binding_site2 + ' and (name CA)')\n",
    "\n",
    "lig1 = \"resid 307\"\n",
    "lig2 = \"resid 308\"\n",
    "lig1_selection = u.select_atoms(lig1)\n",
    "lig2_selection = u.select_atoms(lig2)"
   ]
  },
  {
   "attachments": {},
   "cell_type": "markdown",
   "metadata": {},
   "source": [
    "# RMSD ANALYSIS"
   ]
  },
  {
   "cell_type": "code",
   "execution_count": 5,
   "metadata": {},
   "outputs": [],
   "source": [
    "if run_analysis_verb:\n",
    "    R = rms.RMSD(u, u, select='name CA', groupselections=[lig1, lig2, binding_site1, binding_site2], ref_frame=0).run(verbose = True)\n",
    "    rmsd_df = pd.DataFrame(R.rmsd, columns=['idx', 'time', 'CA', 'lig1', 'lig2', 'pot1', 'pot2'])\n",
    "    rmsd_df['time'] = rmsd_df.time / 1000 # to get time in nanoseconds\n",
    "    rmsd_df.to_csv(data_path + 'rmsd.csv', index=False, float_format='%.3f')\n",
    "else:\n",
    "    try: rmsd_df = pd.read_csv(data_path + 'rmsd.csv')\n",
    "    except: print('Error: You have to run the analysis for the first time')"
   ]
  },
  {
   "cell_type": "code",
   "execution_count": null,
   "metadata": {},
   "outputs": [],
   "source": [
    "fig, (ax1, ax2, ax3) = plt.subplots(3, 1, figsize=(10, 6), sharex=True)\n",
    "ax1.plot(rmsd_df.time, rmsd_df.CA)\n",
    "ax1.set(ylabel = 'RMSD ($\\AA$)', title = 'CA RMSD')\n",
    "ax1.grid()\n",
    "\n",
    "ax2.plot(rmsd_df.time, rmsd_df.lig1, label='lig1', linewidth=0.5)\n",
    "ax2.plot(rmsd_df.time, rmsd_df.lig2, label='lig2', linewidth=0.5)\n",
    "ax2.set(ylabel = 'RMSD ($\\AA$)', title = 'Ligands RMSD')\n",
    "ax2.legend()\n",
    "ax2.grid()\n",
    "\n",
    "ax3.plot(rmsd_df.time, rmsd_df.pot1, label='pot1', linewidth=0.5)\n",
    "ax3.plot(rmsd_df.time, rmsd_df.pot2, label='pot2', linewidth=0.5)\n",
    "ax3.set(ylabel = 'RMSD ($\\AA$)', title = 'Binding sites RMSD')\n",
    "ax3.set_xlabel('Time (ns)')\n",
    "ax3.legend()\n",
    "#ax3.set_xlim(10, 500)\n",
    "ax3.grid()\n",
    "plt.tight_layout()\n",
    "\n",
    "if save_verb: plt.savefig(results_path + \"rmsd/rmsd.png\", dpi = 500, bbox_inches = 'tight')\n",
    "if plot_verb: \n",
    "    plt.show()\n",
    "else: plt.close()"
   ]
  },
  {
   "attachments": {},
   "cell_type": "markdown",
   "metadata": {},
   "source": [
    "# RMSD MAP & CLUSTERING "
   ]
  },
  {
   "cell_type": "code",
   "execution_count": null,
   "metadata": {},
   "outputs": [],
   "source": [
    "@njit(nogil=True)\n",
    "def compute_rmsd(tr1, tr2):\n",
    "    # Calculate the RMSD between the two frames\n",
    "    diff = tr1 - tr2\n",
    "    rmsd = np.sqrt(np.mean(diff**2))\n",
    "    return rmsd\n",
    "\n",
    "@njit(nogil=True, parallel=True)\n",
    "def compute_pairwise_rmsd(traj1, traj2, rmsd_map, progress_proxy):    \n",
    "    for i in prange(len(traj1)):\n",
    "        for j in prange(len(traj2)):\n",
    "            rmsd_map[i, j] = compute_rmsd(traj1[i], traj2[j])\n",
    "            progress_proxy.update(1)\n",
    "    return rmsd_map"
   ]
  },
  {
   "attachments": {},
   "cell_type": "markdown",
   "metadata": {},
   "source": [
    "## LIGAND"
   ]
  },
  {
   "cell_type": "code",
   "execution_count": 6,
   "metadata": {},
   "outputs": [],
   "source": [
    "if run_analysis_verb:\n",
    "    # take positions of only the lig 1 atoms\n",
    "    selection = lig1\n",
    "    traj = []\n",
    "    for ts in u.trajectory:\n",
    "        traj.append(u.select_atoms(selection).positions)\n",
    "    traj = np.array(traj)\n",
    "\n",
    "    print(\"Now starting lig 1 rmsd map calculation\")\n",
    "\n",
    "    with ProgressBar(total=len(traj)*len(traj)) as progress:\n",
    "        rmsd_map_lig1 = compute_pairwise_rmsd(traj, traj, np.zeros((len(traj), len(traj))), progress)\n",
    "\n",
    "    # take positions of only the lig 2 atoms\n",
    "    selection = lig2\n",
    "    traj = []\n",
    "    for ts in u.trajectory:\n",
    "        traj.append(u.select_atoms(selection).positions)\n",
    "    traj = np.array(traj)\n",
    "\n",
    "    print(\"Now starting lig 2 rmsd map calculation\")\n",
    "\n",
    "    with ProgressBar(total=len(traj)*len(traj)) as progress:\n",
    "        rmsd_map_lig2 = compute_pairwise_rmsd(traj, traj, np.zeros((len(traj), len(traj))), progress)\n",
    "\n",
    "    df = pd.DataFrame(rmsd_map_lig1).round(3)\n",
    "    df.columns = [f'{i}' for i in range(nFrames)]\n",
    "    df.to_parquet(data_path + 'rmsd_map/rmsd_lig1.parquet', index=False, engine = 'pyarrow')\n",
    "\n",
    "    df = pd.DataFrame(rmsd_map_lig2).round(3)\n",
    "    df.columns = [f'{i}' for i in range(nFrames)]\n",
    "    df.to_parquet(data_path + 'rmsd_map/rmsd_lig2.parquet', index=False, engine = 'pyarrow')\n",
    "else:\n",
    "    try:\n",
    "        rmsd_map_lig1 = pd.read_parquet(data_path + 'rmsd_map/rmsd_lig1.parquet')\n",
    "        rmsd_map_lig2 = pd.read_parquet(data_path + 'rmsd_map/rmsd_lig2.parquet')\n",
    "    except: print('Error: You have to run the analysis for the first time')"
   ]
  },
  {
   "cell_type": "code",
   "execution_count": null,
   "metadata": {},
   "outputs": [],
   "source": [
    "fig, (ax, ax1) = plt.subplots(1, 2, figsize=(10, 4))\n",
    "im = ax.imshow(rmsd_map_lig1, cmap='viridis', vmin=0, vmax=15)\n",
    "ax.set_xlabel('Time [ns]')\n",
    "ax.set_ylabel('Time [ns]')\n",
    "ax.set_xticks(ticks_arr, ticks_arr_new.astype(str))\n",
    "ax.set_yticks(ticks_arr, ticks_arr_new.astype(str))\n",
    "ax.set_title(\"Ligand 1\")\n",
    "\n",
    "im1 = ax1.imshow(rmsd_map_lig2, cmap='viridis', vmin=0, vmax=15)\n",
    "ax1.set_xlabel('Time [ns]')\n",
    "ax1.set_xticks(ticks_arr, ticks_arr_new.astype(str))\n",
    "ax1.set_yticks(ticks_arr, ticks_arr_new.astype(str))\n",
    "ax1.set_title(\"Ligand 2\")\n",
    "\n",
    "fig.subplots_adjust(right=0.8)\n",
    "cbar_ax = fig.add_axes([0.85, 0.15, 0.02, 0.7])\n",
    "fig.colorbar(im, cax=cbar_ax, label = r'RMSD ($\\AA$)')\n",
    "\n",
    "if save_verb: plt.savefig(results_path + 'rmsd/rmsd_map_lig.png', dpi=500, bbox_inches='tight')\n",
    "if plot_verb:   \n",
    "    plt.show()\n",
    "else:\n",
    "    plt.close()"
   ]
  },
  {
   "attachments": {},
   "cell_type": "markdown",
   "metadata": {},
   "source": [
    "## BINDING SITES"
   ]
  },
  {
   "cell_type": "code",
   "execution_count": 7,
   "metadata": {},
   "outputs": [],
   "source": [
    "if run_analysis_verb:\n",
    "    # take positions of only the binding site 1 CA atoms\n",
    "    selection = binding_site1\n",
    "    traj = []\n",
    "    for ts in u.trajectory:\n",
    "        traj.append(u.select_atoms(selection).positions)\n",
    "    traj = np.array(traj)\n",
    "\n",
    "    print(\"Now starting binding site 1 rmsd map calculation\")\n",
    "\n",
    "    with ProgressBar(total=len(traj)*len(traj)) as progress:\n",
    "        rmsd_map_pot1 = compute_pairwise_rmsd(traj, traj, np.zeros((len(traj), len(traj))), progress)\n",
    "\n",
    "    # take positions of only the binding site 2 CA atoms\n",
    "    selection = binding_site2\n",
    "    traj = []\n",
    "    for ts in u.trajectory:\n",
    "        traj.append(u.select_atoms(selection).positions)\n",
    "    traj = np.array(traj)\n",
    "\n",
    "    print(\"Now starting binding site 2 rmsd map calculation\")\n",
    "\n",
    "    with ProgressBar(total=len(traj)*len(traj)) as progress:\n",
    "        rmsd_map_pot2 = compute_pairwise_rmsd(traj, traj, np.zeros((len(traj), len(traj))), progress)\n",
    "\n",
    "    df = pd.DataFrame(rmsd_map_pot1).round(3)\n",
    "    df.columns = [f'{i}' for i in range(nFrames)]\n",
    "    df.to_parquet(data_path + 'rmsd_map/rmsd_pot1.parquet', index=False, engine = 'pyarrow')\n",
    "\n",
    "    df = pd.DataFrame(rmsd_map_pot2).round(3)\n",
    "    df.columns = [f'{i}' for i in range(nFrames)]\n",
    "    df.to_parquet(data_path + 'rmsd_map/rmsd_pot2.parquet', index=False, engine = 'pyarrow')\n",
    "else:\n",
    "    try:\n",
    "        rmsd_map_pot1 = pd.read_parquet(data_path + 'rmsd_map/rmsd_pot1.parquet')\n",
    "        rmsd_map_pot2 = pd.read_parquet(data_path + 'rmsd_map/rmsd_pot2.parquet')\n",
    "    except:\n",
    "        print(\"No rmsd data found. Please run analysis first.\")"
   ]
  },
  {
   "cell_type": "code",
   "execution_count": null,
   "metadata": {},
   "outputs": [],
   "source": [
    "fig, (ax, ax1) = plt.subplots(1, 2, figsize=(10, 4))\n",
    "im = ax.imshow(rmsd_map_pot1, cmap='viridis', vmin=0, vmax=7)\n",
    "ax.set_xlabel('Time [ns]')\n",
    "ax.set_ylabel('Time [ns]')\n",
    "ax.set_xticks(ticks_arr, ticks_arr_new.astype(str))\n",
    "ax.set_yticks(ticks_arr, ticks_arr_new.astype(str))\n",
    "ax.set_title(\"Binding site 1\")\n",
    "\n",
    "im1 = ax1.imshow(rmsd_map_pot2, cmap='viridis', vmin=0, vmax=7)\n",
    "ax1.set_xlabel('Time [ns]')\n",
    "ax1.set_xticks(ticks_arr, ticks_arr_new.astype(str))\n",
    "ax1.set_yticks(ticks_arr, ticks_arr_new.astype(str))\n",
    "ax1.set_title(\"Binding site 2\")\n",
    "\n",
    "fig.subplots_adjust(right=0.8)\n",
    "cbar_ax = fig.add_axes([0.85, 0.15, 0.02, 0.7])\n",
    "fig.colorbar(im, cax=cbar_ax, label = r'RMSD ($\\AA$)')\n",
    "\n",
    "if save_verb: plt.savefig(results_path + 'rmsd/rmsd_map_pot.png', dpi=500, bbox_inches='tight')\n",
    "if plot_verb:   \n",
    "    plt.show()\n",
    "else:\n",
    "    plt.close()"
   ]
  },
  {
   "attachments": {},
   "cell_type": "markdown",
   "metadata": {},
   "source": [
    "## CHAINS RMSD MAP"
   ]
  },
  {
   "cell_type": "code",
   "execution_count": 8,
   "metadata": {},
   "outputs": [],
   "source": [
    "if run_analysis_verb:\n",
    "    # take positions of only the chain 1 CA atoms\n",
    "    selection = 'name CA and (index 1:4690)'\n",
    "    traj = []\n",
    "    for ts in u.trajectory:\n",
    "        traj.append(u.select_atoms(selection).positions)\n",
    "    traj = np.array(traj)\n",
    "\n",
    "    print(\"Now starting chain1 rmsd map calculation\")\n",
    "\n",
    "    with ProgressBar(total=len(traj)*len(traj)) as progress:\n",
    "        rmsd_map_chain1 = compute_pairwise_rmsd(traj, traj, np.zeros((len(traj), len(traj))), progress)\n",
    "\n",
    "    # take positions of only the chain 2 CA atoms\n",
    "    selection = 'name CA and (index 4811:9500)'\n",
    "    traj = []\n",
    "    for ts in u.trajectory:\n",
    "        traj.append(u.select_atoms(selection).positions)\n",
    "    traj = np.array(traj)\n",
    "\n",
    "    print(\"Now starting chain2 rmsd map calculation\")\n",
    "\n",
    "    with ProgressBar(total=len(traj)*len(traj)) as progress:\n",
    "        rmsd_map_chain2 = compute_pairwise_rmsd(traj, traj, np.zeros((len(traj), len(traj))), progress)\n",
    "\n",
    "    df = pd.DataFrame(rmsd_map_chain1).round(3)\n",
    "    df.columns = [f'{i}' for i in range(nFrames)]\n",
    "    df.to_parquet(data_path + 'rmsd_map/rmsd_chain1.parquet', index=False, engine = 'pyarrow')\n",
    "\n",
    "    df = pd.DataFrame(rmsd_map_chain2).round(3)\n",
    "    df.columns = [f'{i}' for i in range(nFrames)]\n",
    "    df.to_parquet(data_path + 'rmsd_map/rmsd_chain2.parquet', index=False, engine = 'pyarrow')\n",
    "else:\n",
    "    try:\n",
    "        rmsd_map_chain1 = pd.read_parquet(data_path + 'rmsd_map/rmsd_chain1.parquet')\n",
    "        rmsd_map_chain2 = pd.read_parquet(data_path + 'rmsd_map/rmsd_chain2.parquet')\n",
    "    except:\n",
    "        print(\"No rmsd data found. Please run analysis first.\")"
   ]
  },
  {
   "cell_type": "code",
   "execution_count": null,
   "metadata": {},
   "outputs": [],
   "source": [
    "fig, (ax, ax1) = plt.subplots(1, 2, figsize=(10, 4))\n",
    "im = ax.imshow(rmsd_map_chain1, cmap='viridis', vmin=0, vmax=4)\n",
    "ax.set_xlabel('Time [ns]')\n",
    "ax.set_ylabel('Time [ns]')\n",
    "ax.set_xticks(ticks_arr, ticks_arr_new.astype(str))\n",
    "ax.set_yticks(ticks_arr, ticks_arr_new.astype(str))\n",
    "ax.set_title(\"Chain 1\")\n",
    "\n",
    "im1 = ax1.imshow(rmsd_map_chain2, cmap='viridis', vmin=0, vmax=4)\n",
    "ax1.set_xlabel('Time [ns]')\n",
    "ax1.set_xticks(ticks_arr, ticks_arr_new.astype(str))\n",
    "ax1.set_yticks(ticks_arr, ticks_arr_new.astype(str))\n",
    "ax1.set_title(\"Chain 2\")\n",
    "\n",
    "fig.subplots_adjust(right=0.8)\n",
    "cbar_ax = fig.add_axes([0.85, 0.15, 0.02, 0.7])\n",
    "fig.colorbar(im, cax=cbar_ax, label = r'RMSD ($\\AA$)')\n",
    "\n",
    "if save_verb: plt.savefig(results_path + 'rmsd/rmsd_map_chains.png', dpi=500, bbox_inches='tight')\n",
    "if plot_verb:   \n",
    "    plt.show()\n",
    "else:\n",
    "    plt.close()"
   ]
  },
  {
   "attachments": {},
   "cell_type": "markdown",
   "metadata": {},
   "source": [
    "## FULL CA RMSD MAP"
   ]
  },
  {
   "cell_type": "code",
   "execution_count": 9,
   "metadata": {},
   "outputs": [],
   "source": [
    "if run_analysis_verb:\n",
    "    selection = 'name CA'\n",
    "    traj = []\n",
    "    for ts in u.trajectory:\n",
    "        traj.append(u.select_atoms(selection).positions)\n",
    "    traj = np.array(traj)\n",
    "\n",
    "    print(\"Now starting rmsd map calculation\")\n",
    "\n",
    "    with ProgressBar(total=len(traj)*len(traj)) as progress:\n",
    "        rmsd_map_CA = compute_pairwise_rmsd(traj, traj, np.zeros((len(traj), len(traj))), progress)\n",
    "\n",
    "    df = pd.DataFrame(rmsd_map_CA).round(3)\n",
    "    df.columns = [f'{i}' for i in range(nFrames)]\n",
    "    df.to_parquet(data_path + 'rmsd_map/rmsd_map_CA.parquet', index=False, engine = 'pyarrow')\n",
    "\n",
    "else:\n",
    "    try:\n",
    "        rmsd_map_CA = pd.read_parquet(data_path + 'rmsd_map/rmsd_map_CA.parquet')\n",
    "    except:\n",
    "        print(\"No rmsd data found. Please run analysis first.\")"
   ]
  },
  {
   "cell_type": "code",
   "execution_count": null,
   "metadata": {},
   "outputs": [],
   "source": [
    "fig, ax = plt.subplots(figsize=(6, 4))\n",
    "im = ax.imshow(rmsd_map_CA, cmap='viridis')\n",
    "ax.set_xlabel('Time [ns]')\n",
    "ax.set_ylabel('Time [ns]')\n",
    "ax.set_xticks(ticks_arr, ticks_arr_new.astype(str))\n",
    "ax.set_yticks(ticks_arr, ticks_arr_new.astype(str))\n",
    "fig.colorbar(im, label = r'RMSD ($\\AA$)')\n",
    "if save_verb: plt.savefig(results_path + 'rmsd/rmsd_map.png', dpi=500, bbox_inches='tight')\n",
    "if plot_verb:\n",
    "    plt.show()\n",
    "else: plt.close()"
   ]
  },
  {
   "attachments": {},
   "cell_type": "markdown",
   "metadata": {},
   "source": [
    "# RMSF ANALYSIS"
   ]
  },
  {
   "attachments": {},
   "cell_type": "markdown",
   "metadata": {},
   "source": [
    "## BINDING SITE RMSF"
   ]
  },
  {
   "cell_type": "code",
   "execution_count": null,
   "metadata": {},
   "outputs": [],
   "source": [
    "if run_analysis_verb:\n",
    "    pot1_rmsf = rms.RMSF(binding_site1_CA, verbose = True).run().rmsf\n",
    "    pot2_rmsf = rms.RMSF(binding_site2_CA, verbose = True).run().rmsf\n",
    "    rmsf_pots = pd.DataFrame({'resid': binding_site1_CA.resids, 'pot1': pot1_rmsf, 'pot2': pot2_rmsf})\n",
    "    rmsf_pots.to_csv(data_path+'rmsf_pots.csv', index=False, float_format='%.3f')\n",
    "else:\n",
    "    try: rmsf_pots = pd.read_csv(data_path+'rmsf_pots.csv')\n",
    "    except: print('Error: You have to run the analysis for the first time')"
   ]
  },
  {
   "cell_type": "code",
   "execution_count": null,
   "metadata": {},
   "outputs": [],
   "source": [
    "fig, (ax1, ax2) = plt.subplots(2, 1, figsize=(10, 4), sharex=True)\n",
    "ax1.plot(binding_site1_CA.resids.astype(str), rmsf_pots.pot1)\n",
    "ax1.set(ylabel = 'RMSF ($\\AA$)', title = 'Binding site 1 RMSF')\n",
    "ax2.plot(binding_site2_CA.resids.astype(str), rmsf_pots.pot2)\n",
    "ax2.set(xlabel = 'Residue', ylabel = 'RMSF ($\\AA$)', title = 'Binding site 2 RMSF')\n",
    "ax1.grid()\n",
    "ax2.grid()\n",
    "plt.tight_layout()\n",
    "if save_verb: plt.savefig(results_path+\"rmsf/rmsf_binding_sites.png\", dpi = 500, bbox_inches = 'tight')\n",
    "if plot_verb: \n",
    "    plt.show()\n",
    "else: plt.close()"
   ]
  },
  {
   "attachments": {},
   "cell_type": "markdown",
   "metadata": {},
   "source": [
    "## FULL CHAINS RMSF"
   ]
  },
  {
   "cell_type": "code",
   "execution_count": null,
   "metadata": {},
   "outputs": [],
   "source": [
    "if run_analysis_verb:\n",
    "    firstChain_rmsf = rms.RMSF(first_chain, verbose = True).run().rmsf\n",
    "    secondChain_rmsf = rms.RMSF(second_chain, verbose = True).run().rmsf\n",
    "    rmsf_chains = pd.DataFrame({'resid': first_chain.resids, 'chain1': firstChain_rmsf, 'chain2': secondChain_rmsf})\n",
    "    rmsf_chains.to_csv(data_path+'rmsf_chains.csv', index=False, float_format='%.3f')\n",
    "else:\n",
    "    try: rmsf_chains = pd.read_csv(data_path + 'rmsf_chains.csv')\n",
    "    except: print('Error: You have to run the analysis for the first time')"
   ]
  },
  {
   "cell_type": "code",
   "execution_count": null,
   "metadata": {},
   "outputs": [],
   "source": [
    "arr = np.linspace(1, 306, 10, dtype=int)\n",
    "\n",
    "fig, (ax1, ax2) = plt.subplots(2, 1, figsize=(10, 6), sharex=True)\n",
    "ax1.plot(first_chain.resids.astype(str), rmsf_chains.chain1)\n",
    "ax1.set(ylabel = 'RMSF ($\\AA$)', title = 'First Chain RMSF') \n",
    "ax1.set_xticks(arr, arr.astype(str))\n",
    "ax1.grid()\n",
    "\n",
    "for i in binding_site1_CA.resids: # red vertical lines for the binding site \n",
    "    if i == 144:\n",
    "        ax1.vlines(i, min(rmsf_chains.chain1), max(rmsf_chains.chain1), color='red', linestyle = 'solid', alpha=1)\n",
    "    else:\n",
    "        ax1.vlines(i, min(rmsf_chains.chain1), max(rmsf_chains.chain1), color='black', linestyle = 'dotted', alpha=0.8)\n",
    "if run==2: ax1.set_ylim(1, 6)\n",
    "\n",
    "ax2.plot(second_chain.resids.astype(str), rmsf_chains.chain2)\n",
    "ax2.set(xlabel = 'Residue', ylabel = 'RMSF ($\\AA$)', title = 'Second Chain RMSF')\n",
    "for i in binding_site2_CA.resids: # red vertical lines for the binding site \n",
    "    if i == 144:\n",
    "        ax2.vlines(i, min(rmsf_chains.chain2), max(rmsf_chains.chain2), color='red', linestyle = 'solid', alpha=1)\n",
    "    else:\n",
    "        ax2.vlines(i, min(rmsf_chains.chain2), max(rmsf_chains.chain2), color='black', linestyle = 'dotted', alpha=0.8)\n",
    "ax2.grid()\n",
    "\n",
    "if run ==2: ax2.set_ylim(1, 6)\n",
    "\n",
    "plt.tight_layout()\n",
    "if save_verb: plt.savefig(results_path + \"rmsf/rmsf.png\", dpi = 500, bbox_inches = 'tight')\n",
    "if plot_verb:\n",
    "    plt.show()\n",
    "else: plt.close()"
   ]
  },
  {
   "cell_type": "code",
   "execution_count": null,
   "metadata": {},
   "outputs": [],
   "source": [
    "# version 2\n",
    "arr = np.linspace(1, 306, 10, dtype=int)\n",
    "\n",
    "fig, ax = plt.subplots(1, 1, figsize=(10, 3), sharex=True)\n",
    "ax.plot(first_chain.resids.astype(str), rmsf_chains.chain1, label = 'Second Chain')\n",
    "ax.set(ylabel = 'RMSF ($\\AA$)', title = 'First Chain RMSF') \n",
    "ax.set_xticks(arr, arr.astype(str))\n",
    "ax.grid()\n",
    "\n",
    "for i in binding_site1_CA.resids: # red vertical lines for the binding site \n",
    "    if i == 144:\n",
    "        ax.vlines(i, min(rmsf_chains.chain1), max(rmsf_chains.chain1), color='red', linestyle = 'solid', alpha=1)\n",
    "    else:\n",
    "        ax.vlines(i, min(rmsf_chains.chain1), max(rmsf_chains.chain1), color='black', linestyle = 'dotted', alpha=0.8)\n",
    "if run==2: ax.set_ylim(1, 6)\n",
    "ax.plot(second_chain.resids.astype(str), rmsf_chains.chain2, label = 'Second Chain')\n",
    "if run ==2: ax2.set_ylim(1, 6)\n",
    "\n",
    "ax.legend()\n",
    "plt.tight_layout()\n",
    "if save_verb: plt.savefig(results_path + \"rmsf/rmsf_v2.png\", dpi = 500, bbox_inches = 'tight')\n",
    "if plot_verb:\n",
    "    plt.show()\n",
    "else: plt.close()"
   ]
  },
  {
   "attachments": {},
   "cell_type": "markdown",
   "metadata": {},
   "source": [
    "## RMSF BEFORE AND AFTER THE LIGAND DEPARTURE ??"
   ]
  },
  {
   "cell_type": "code",
   "execution_count": null,
   "metadata": {},
   "outputs": [],
   "source": []
  },
  {
   "attachments": {},
   "cell_type": "markdown",
   "metadata": {},
   "source": [
    "## RMSF WINDOWED IN TIME\n",
    "\n",
    "1 frame = 50 ps $\\longrightarrow$ 1 ns = 20 frames\n"
   ]
  },
  {
   "cell_type": "code",
   "execution_count": 10,
   "metadata": {},
   "outputs": [
    {
     "name": "stdout",
     "output_type": "stream",
     "text": [
      "number of frames: 10001, corresponding to 500.05 ns\n",
      "window of 25.0 ns, stride of 1.0 ns\n"
     ]
    }
   ],
   "source": [
    "# nFrames/20 since we save coordinates every 50 ps\n",
    "print(f\"number of frames: {nFrames}, corresponding to {nFrames/20} ns\" )\n",
    "window = 500 # 25 ns, 25*20 = 500 frames\n",
    "stride = 20 # 1 ns, 5*20 = 100 frames\n",
    "print(f\"window of {window/20} ns, stride of {stride/20} ns\")\n",
    "\n",
    "startFrames = np.arange(0, nFrames-window, stride, dtype=int)\n",
    "endFrames = startFrames + window"
   ]
  },
  {
   "cell_type": "code",
   "execution_count": 11,
   "metadata": {},
   "outputs": [],
   "source": [
    "if run_analysis_verb:\n",
    "    rmsf_list = []\n",
    "    for i in tqdm(range(len(startFrames))):\n",
    "        startFrame = startFrames[i]\n",
    "        endFrame = endFrames[i]\n",
    "        firstChain_rmsf = rms.RMSF(first_chain).run(startFrame, endFrame).rmsf\n",
    "        secondChain_rmsf = rms.RMSF(second_chain).run(startFrame, endFrame).rmsf\n",
    "        rmsf_list.append(pd.DataFrame({'resid': first_chain.resids, 'chain1': firstChain_rmsf, 'chain2': secondChain_rmsf}))\n",
    "\n",
    "    rmsf_windowed = pd.concat(rmsf_list, axis=0, ignore_index=True)\n",
    "    rmsf_windowed.to_csv(data_path + 'rmsf_windowed2.csv', index=False, float_format='%.3f')\n",
    "else:\n",
    "    try: rmsf_windowed = pd.read_csv(data_path + 'rmsf_windowed2.csv')\n",
    "    except: print(\"Error: You need to run the analysis first\")\n",
    "\n",
    "# generate video with other environment running video.py, here only show\n",
    "#Video(results_path+\"rmsf/windowed_rmsf.mp4\")"
   ]
  },
  {
   "cell_type": "code",
   "execution_count": 57,
   "metadata": {},
   "outputs": [],
   "source": [
    "temp = np.empty((306, len(startFrames)))\n",
    "for i in range(1, 307):\n",
    "    temp[i-1] = np.array(rmsf_windowed.loc[rmsf_windowed.resid == i, \"chain1\"])\n",
    "\n",
    "chain1_rmsf_heatmap = np.empty((306*2, len(startFrames)))\n",
    "for i in range(0, 2*306, 2):\n",
    "    chain1_rmsf_heatmap[i] = temp[int(i/2)]\n",
    "    chain1_rmsf_heatmap[i+1] = temp[int(i/2)]\n",
    "\n",
    "temp = np.empty((306, len(startFrames)))\n",
    "for i in range(1, 307):\n",
    "    temp[i-1] = np.array(rmsf_windowed.loc[rmsf_windowed.resid == i, \"chain2\"])\n",
    "\n",
    "chain2_rmsf_heatmap = np.empty((306*2, len(startFrames)))\n",
    "for i in range(0, 2*306, 2):\n",
    "    chain2_rmsf_heatmap[i] = temp[int(i/2)]\n",
    "    chain2_rmsf_heatmap[i+1] = temp[int(i/2)]"
   ]
  },
  {
   "cell_type": "code",
   "execution_count": 65,
   "metadata": {},
   "outputs": [],
   "source": [
    "fig, (ax, ax1) = plt.subplots(1, 2, figsize = (12, 5), sharex=True, sharey=True)\n",
    "im = ax.imshow(chain1_rmsf_heatmap.T, cmap='hot', interpolation='nearest', vmin = 1.5, vmax = 6)\n",
    "ax.set(xlabel = 'Residues', ylabel = 'Window Time [ns]', title = 'First Chain RMSF')\n",
    "ax.set_xticks(2*binding_site1_CA.resids, binding_site1_CA.resids.astype(str))\n",
    "plt.setp(ax.get_xticklabels(), visible=False)\n",
    "\n",
    "im2 = ax1.imshow(chain2_rmsf_heatmap.T, cmap='hot', interpolation='nearest', vmin = 1.5, vmax = 6)\n",
    "\n",
    "ax1.set(xlabel = 'Residues', title = 'Second Chain RMSF')\n",
    "ax1.set_xticks(2*binding_site1_CA.resids, binding_site1_CA.resids.astype(str))\n",
    "plt.setp(ax1.get_xticklabels(), visible=False)\n",
    "\n",
    "fig.subplots_adjust(right=0.8)\n",
    "cbar_ax = fig.add_axes([0.85, 0.15, 0.02, 0.7])\n",
    "fig.colorbar(im, cax=cbar_ax, label = r'RMSD ($\\AA$)')\n",
    "if save_verb: plt.savefig(results_path + \"rmsf/rmsf_heatmap.png\", dpi = 500, bbox_inches = 'tight')\n",
    "if plot_verb:\n",
    "    plt.show()\n",
    "else: plt.close()"
   ]
  },
  {
   "attachments": {},
   "cell_type": "markdown",
   "metadata": {},
   "source": [
    "# LIGAND DISTANCE TO BINDING SITE"
   ]
  },
  {
   "cell_type": "code",
   "execution_count": null,
   "metadata": {},
   "outputs": [],
   "source": [
    "if run_analysis_verb:\n",
    "    d_lig1 = np.zeros(nFrames)\n",
    "    d_lig2 = np.zeros(nFrames)\n",
    "    for i, ts in tqdm(enumerate(u.trajectory)):\n",
    "        d_lig1[i] = np.linalg.norm(binding_site1_CA.center_of_mass() - lig1_selection.center_of_mass())\n",
    "        d_lig2[i] = np.linalg.norm(binding_site2_CA.center_of_mass() - lig2_selection.center_of_mass())\n",
    "    d_ligands = pd.DataFrame({'lig1': d_lig1, 'lig2': d_lig2})\n",
    "    d_ligands.to_csv(data_path+'ligands_distance.csv', index=False, float_format='%.3f')\n",
    "else:\n",
    "    try: d_ligands = pd.read_csv(data_path+'ligands_distance.csv')\n",
    "    except: print(\"Error: You need to run the analysis first\")"
   ]
  },
  {
   "cell_type": "code",
   "execution_count": null,
   "metadata": {},
   "outputs": [],
   "source": [
    "fig, (ax1, ax2) = plt.subplots(2, 1, figsize=(10, 6), sharex=True)\n",
    "ax1.plot(d_ligands.index/20, d_ligands.lig1, '-b')\n",
    "ax1.set(ylabel = 'Distance ($\\AA$)', title = 'Ligand distance from corresponding binding site')\n",
    "ax2.plot(d_ligands.index/20, d_ligands.lig2, '-r')\n",
    "ax2.set(xlabel = 'Frame', ylabel = 'Distance ($\\AA$)')\n",
    "plt.tight_layout()\n",
    "ax1.grid()\n",
    "ax2.grid()\n",
    "ax1.legend(['Ligand 1'])\n",
    "ax2.legend(['Ligand 2'])\n",
    "if save_verb: plt.savefig(results_path + \"ligand_distance.png\", dpi = 500, bbox_inches = 'tight')\n",
    "if plot_verb: \n",
    "    plt.show()\n",
    "else: plt.close()"
   ]
  },
  {
   "attachments": {},
   "cell_type": "markdown",
   "metadata": {},
   "source": [
    "# PLOT"
   ]
  },
  {
   "cell_type": "code",
   "execution_count": null,
   "metadata": {},
   "outputs": [],
   "source": [
    "fig, (ax, ax1) = plt.subplots(1, 2, figsize=(12, 4), gridspec_kw={'width_ratios': [1.5, 1]})\n",
    "ax.plot(rmsd_df.time, rmsd_df.CA)\n",
    "ax.set(ylabel = 'RMSD [$\\AA$]', xlabel = 'Time [ns]' , ylim = (1, 4), title = r'RMSD ($C_\\alpha$)')\n",
    "ax.grid()\n",
    "\n",
    "im = ax1.imshow(rmsd_map_CA, cmap='viridis')\n",
    "ax1.set_xlabel('Time [ns]')\n",
    "ax1.set_ylabel('Time [ns]')\n",
    "ax1.set_xticks(ticks_arr, ticks_arr_new.astype(str))\n",
    "ax1.set_yticks(ticks_arr, ticks_arr_new.astype(str))\n",
    "ax1.set_title(r\"RMSD - Map ($C_\\alpha$)\")\n",
    "fig.subplots_adjust(right=0.8)\n",
    "cbar_ax = fig.add_axes([0.85, 0.15, 0.02, 0.7])\n",
    "fig.colorbar(im, cax=cbar_ax, label = r'RMSD ($\\AA$)')\n",
    "\n",
    "if save_verb: plt.savefig(results_path + \"rmsd/rmsd_CA.png\", dpi = 500, bbox_inches = 'tight')\n",
    "if plot_verb:\n",
    "    plt.show()\n",
    "else: plt.close()"
   ]
  },
  {
   "cell_type": "code",
   "execution_count": null,
   "metadata": {},
   "outputs": [],
   "source": [
    "fig, ax = plt.subplots(1, 1, figsize=(12, 3), sharex=True)\n",
    "ax.plot(rmsd_df.time, rmsd_df.lig1, label = 'Ligand 1', linewidth=0.8)\n",
    "ax.plot(rmsd_df.time, rmsd_df.lig2, label = 'Ligand 2', linewidth=0.8)\n",
    "ax.set(ylabel = 'RMSD [$\\AA$]', xlabel = 'Time [ns]', title = 'Ligands - Root Mean Squared Displacement')\n",
    "ax.legend()\n",
    "ax.grid()\n",
    "\n",
    "if save_verb: plt.savefig(results_path + \"rmsd/rmsd_ligands.png\", dpi = 500, bbox_inches = 'tight')\n",
    "if plot_verb:\n",
    "    plt.show()\n",
    "else: plt.close()"
   ]
  },
  {
   "cell_type": "code",
   "execution_count": null,
   "metadata": {},
   "outputs": [],
   "source": [
    "fig, ax = plt.subplots(1, 1, figsize=(10, 3), sharex=True)\n",
    "ax.plot(rmsd_df.time, rmsd_df.pot1, label = 'Binding Site 1', linewidth=0.8)\n",
    "ax.plot(rmsd_df.time, rmsd_df.pot2, label = 'Binding Site 2', linewidth=0.8)\n",
    "ax.set(ylabel = 'RMSD [$\\AA$]', xlabel = 'Time [ns]', title = 'Binding Sites - Root Mean Squared Displacement')\n",
    "ax.legend()\n",
    "ax.grid()\n",
    "\n",
    "if save_verb: plt.savefig(results_path + \"rmsd/rmsd_binding_sites.png\", dpi = 500, bbox_inches = 'tight')\n",
    "if plot_verb:\n",
    "    plt.show()\n",
    "else: plt.close()"
   ]
  },
  {
   "cell_type": "code",
   "execution_count": null,
   "metadata": {},
   "outputs": [],
   "source": []
  }
 ],
 "metadata": {
  "kernelspec": {
   "display_name": "CBPenv",
   "language": "python",
   "name": "python3"
  },
  "language_info": {
   "codemirror_mode": {
    "name": "ipython",
    "version": 3
   },
   "file_extension": ".py",
   "mimetype": "text/x-python",
   "name": "python",
   "nbconvert_exporter": "python",
   "pygments_lexer": "ipython3",
   "version": "3.8.15"
  },
  "vscode": {
   "interpreter": {
    "hash": "a176e17a03d2ac10e16195a6bc22b6394fa2f08afd36a103c397e22bbf641857"
   }
  }
 },
 "nbformat": 4,
 "nbformat_minor": 2
}
